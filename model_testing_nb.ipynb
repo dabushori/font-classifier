{
 "cells": [
  {
   "cell_type": "code",
   "execution_count": 7,
   "metadata": {},
   "outputs": [],
   "source": [
    "from synth_text_dataset import SynthTextCharactersDatasetTest\n",
    "from transforms import char_transform, img_transform\n",
    "import numpy as np\n",
    "\n",
    "filename = 'Project/SynthText_train.h5'\n",
    "model_name = r'all_models_without_perms\\FontClassifierModel_0.01_25_CrossEntropyLoss_SGD_32_0.8'\n",
    "num_of_images = 998\n",
    "num_of_chars = 30520\n",
    "init_shape = (100,100)\n",
    "\n",
    "test_dataset = SynthTextCharactersDatasetTest(filename=filename, shape=init_shape, char_transform=char_transform, full_image_transform=img_transform)\n",
    "permutation = np.loadtxt(rf'outputs\\{model_name}_permutation.txt', dtype=int)"
   ]
  },
  {
   "cell_type": "code",
   "execution_count": 8,
   "metadata": {},
   "outputs": [],
   "source": [
    "\n",
    "import torch\n",
    "from torch.utils.data import DataLoader\n",
    "import numpy as np\n",
    "from model import FontClassifierModel\n",
    "\n",
    "model = FontClassifierModel(init_shape=init_shape, in_channels=1)\n",
    "model.load_state_dict(torch.load(rf'models\\{model_name}.pth'))\n",
    "model.eval()\n",
    "\n",
    "test_dataloader = DataLoader(test_dataset)\n",
    "device = (\n",
    "    torch.device(\"cuda:0\") if torch.cuda.is_available() else torch.device(\"cpu\")\n",
    ")\n",
    "print(f'{device = }')\n",
    "\n",
    "model.to(device)\n",
    "\n",
    "y_pred = [None] * len(test_dataloader)\n",
    "char_pred = np.zeros(len(test_dataset.chars))\n",
    "char_pred_no_voting = np.zeros(len(test_dataset.chars))\n",
    "with torch.no_grad():\n",
    "    for idx, X in enumerate(test_dataloader):\n",
    "        X = X.to(device)[0]\n",
    "        curr_y_pred = model(X)\n",
    "        y_pred[idx] = curr_y_pred.argmax(dim=1)\n",
    "        curr_char_pred = np.bincount(y_pred[idx].cpu()).argmax()\n",
    "        for char_i, i in enumerate(test_dataset.get_word_indexes_at_idx(idx)):\n",
    "            char_pred[i] = curr_char_pred\n",
    "            char_pred_no_voting[i] = y_pred[idx][char_i]\n"
   ]
  },
  {
   "cell_type": "code",
   "execution_count": 9,
   "metadata": {},
   "outputs": [],
   "source": [
    "from synth_text_dataset import SynthTextCharactersDatasetRAM\n",
    "from transforms import img_transform, char_transform, labels_transform\n",
    "\n",
    "init_shape = (100,100)\n",
    "\n",
    "test_dataset_ram = SynthTextCharactersDatasetRAM(\n",
    "    filename,\n",
    "    full_image_transform=img_transform,\n",
    "    on_get_item_transform=char_transform,\n",
    "    target_transform=labels_transform,\n",
    "    shape=init_shape,\n",
    ")\n",
    "\n",
    "y_actual = test_dataset_ram.y_items"
   ]
  },
  {
   "cell_type": "code",
   "execution_count": 10,
   "metadata": {},
   "outputs": [
    {
     "name": "stdout",
     "output_type": "stream",
     "text": [
      "Test stats:\n",
      " With voting accuracy: 87.68020969855833%\n",
      " Without voting accuracy: 79.53800786369594%\n",
      "Train stats:\n",
      " With voting accuracy: 96.09682175622542%\n",
      " Without voting accuracy: 90.26048492791612%\n",
      "Overall stats:\n",
      " With voting accuracy: 94.413499344692%\n",
      " Without voting accuracy: 88.11598951507209%\n"
     ]
    }
   ],
   "source": [
    "start_idx = int(0.8 * len(y_actual))\n",
    "\n",
    "char_pred_test = char_pred[permutation][start_idx:]\n",
    "y_actual_test = y_actual[permutation][start_idx:]\n",
    "char_pred_no_voting_test = char_pred_no_voting[permutation][start_idx:]\n",
    "\n",
    "print('Test stats:')\n",
    "print(f' With voting accuracy: {(char_pred_test.astype(int) == y_actual_test.astype(int)).astype(int).sum() * 100 / len(y_actual_test)}%')\n",
    "print(f' Without voting accuracy: {(char_pred_no_voting_test.astype(int) == y_actual_test.astype(int)).astype(int).sum() * 100 / len(y_actual_test)}%')\n",
    "\n",
    "char_pred_train = char_pred[permutation][:start_idx]\n",
    "y_actual_train = y_actual[permutation][:start_idx]\n",
    "char_pred_no_voting_train = char_pred_no_voting[permutation][:start_idx]\n",
    "\n",
    "print('Train stats:')\n",
    "print(f' With voting accuracy: {(char_pred_train.astype(int) == y_actual_train.astype(int)).astype(int).sum() * 100 / len(y_actual_train)}%')\n",
    "print(f' Without voting accuracy: {(char_pred_no_voting_train.astype(int) == y_actual_train.astype(int)).astype(int).sum() * 100 / len(y_actual_train)}%')\n",
    "\n",
    "print('Overall stats:')\n",
    "print(f' With voting accuracy: {(char_pred.astype(int) == y_actual.astype(int)).astype(int).sum() * 100 / len(y_actual)}%')\n",
    "print(f' Without voting accuracy: {(char_pred_no_voting.astype(int) == y_actual.astype(int)).astype(int).sum() * 100 / len(y_actual)}%')"
   ]
  }
 ],
 "metadata": {
  "kernelspec": {
   "display_name": "Python 3",
   "language": "python",
   "name": "python3"
  },
  "language_info": {
   "codemirror_mode": {
    "name": "ipython",
    "version": 3
   },
   "file_extension": ".py",
   "mimetype": "text/x-python",
   "name": "python",
   "nbconvert_exporter": "python",
   "pygments_lexer": "ipython3",
   "version": "3.9.0"
  },
  "orig_nbformat": 4,
  "vscode": {
   "interpreter": {
    "hash": "c915ecc773fd500847afd1cb1bbbaaad4831b1c5e27b79787558f1ea1108fb51"
   }
  }
 },
 "nbformat": 4,
 "nbformat_minor": 2
}
